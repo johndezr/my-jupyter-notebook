{
 "cells": [
  {
   "cell_type": "code",
   "execution_count": 3,
   "metadata": {},
   "outputs": [
    {
     "name": "stdout",
     "output_type": "stream",
     "text": [
      "I'm Zombie and my health is 100\n",
      "I'm Vampire and my health is 100\n",
      "Zombie Vampire\n"
     ]
    }
   ],
   "source": [
    "class Enemy:\n",
    "  type_enemy: str\n",
    "  health: int = 100\n",
    "  attack_damage: int = 1\n",
    "\n",
    "  def __init__(self, type_enemy: str, health: int, attack_damage: int):\n",
    "    self.__type_enemy = type_enemy\n",
    "    self.health = health\n",
    "    self.attack_damage = attack_damage\n",
    "\n",
    "  def get_type_enemy(self):\n",
    "    return self.__type_enemy\n",
    "\n",
    "  def set_type_enemy(self, type_enemy: str):\n",
    "    self.__type_enemy = type_enemy\n",
    "\n",
    "  def talk(self):\n",
    "    print(f\"I'm {self.type_enemy} and my health is {self.health}\")\n",
    "\n",
    "class Zombie(Enemy):\n",
    "  def __init__(self, type_enemy: str, health: int, attack_damage: int):\n",
    "    super().__init__(type_enemy, health, attack_damage)\n",
    "\n",
    "  def talk(self):\n",
    "    print(f\"I'm {super().get_type_enemy()} and my health is {self.health}\")\n",
    "\n",
    "  def spread_disease(self):\n",
    "    print(\"I'm spreading disease\")\n",
    "\n",
    "class Vampire(Enemy):\n",
    "  def __init__(self, type_enemy: str, health: int, attack_damage: int):\n",
    "    super().__init__(type_enemy, health, attack_damage)\n",
    "\n",
    "  def talk(self):\n",
    "    print(f\"I'm {super().get_type_enemy()} and my health is {self.health}\")\n",
    "\n",
    "  def scare(self):\n",
    "    print(\"I'm scaring you\") \n",
    "\n",
    "zombie = Zombie(\"Zombie\", 100, 10)\n",
    "vampire = Vampire(\"Vampire\", 100, 10)\n",
    "\n",
    "zombie.talk()\n",
    "vampire.talk()\n"
   ]
  }
 ],
 "metadata": {
  "kernelspec": {
   "display_name": "jupyter_env",
   "language": "python",
   "name": "python3"
  },
  "language_info": {
   "codemirror_mode": {
    "name": "ipython",
    "version": 3
   },
   "file_extension": ".py",
   "mimetype": "text/x-python",
   "name": "python",
   "nbconvert_exporter": "python",
   "pygments_lexer": "ipython3",
   "version": "3.13.1"
  }
 },
 "nbformat": 4,
 "nbformat_minor": 2
}
