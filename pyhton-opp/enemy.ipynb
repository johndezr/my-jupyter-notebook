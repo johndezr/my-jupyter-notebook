{
 "cells": [
  {
   "cell_type": "code",
   "execution_count": 1,
   "metadata": {},
   "outputs": [
    {
     "name": "stdout",
     "output_type": "stream",
     "text": [
      "1\n"
     ]
    }
   ],
   "source": [
    "class Enemy:\n",
    "  type_enemy: str\n",
    "  health: int = 100\n",
    "  attack_damage: int = 1\n",
    "\n",
    "  def talk(self):\n",
    "    print(f\"I'm {self.type_enemy} and my health is {self.health}\")\n",
    "\n",
    "enemy = Enemy()\n",
    "print(enemy.attack_damage)"
   ]
  }
 ],
 "metadata": {
  "kernelspec": {
   "display_name": "jupyter_env",
   "language": "python",
   "name": "python3"
  },
  "language_info": {
   "codemirror_mode": {
    "name": "ipython",
    "version": 3
   },
   "file_extension": ".py",
   "mimetype": "text/x-python",
   "name": "python",
   "nbconvert_exporter": "python",
   "pygments_lexer": "ipython3",
   "version": "3.13.1"
  }
 },
 "nbformat": 4,
 "nbformat_minor": 2
}
