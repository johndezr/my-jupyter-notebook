{
 "cells": [
  {
   "cell_type": "code",
   "execution_count": 2,
   "metadata": {},
   "outputs": [
    {
     "name": "stdout",
     "output_type": "stream",
     "text": [
      "['1', '2', '3', '4', '5', '6']\n",
      "['1', '2', '4', '5', '6']\n",
      "['1', '2', '4', '5']\n",
      "{'4', '6', '2', '3', '5', '1'}\n",
      "{'4', '6', '2', '5', '1'}\n",
      "('1', '2', '3', '4', '5')\n"
     ]
    }
   ],
   "source": [
    "# Lists\n",
    "\n",
    "list = [\"1\", \"2\", \"3\", \"4\", \"5\"]\n",
    "list.append(\"6\")\n",
    "print(list)\n",
    "list.remove(\"3\")\n",
    "print(list)\n",
    "list.pop()\n",
    "print(list)\n",
    "\n",
    "# Sets\n",
    "set = {\"1\", \"2\", \"3\", \"4\", \"5\"}\n",
    "set.add(\"6\")\n",
    "print(set)\n",
    "set.remove(\"3\")\n",
    "print(set)\n",
    "\n",
    "# Tuples\n",
    "tuple = (\"1\", \"2\", \"3\", \"4\", \"5\")\n",
    "print(tuple)\n"
   ]
  }
 ],
 "metadata": {
  "kernelspec": {
   "display_name": "jupyter_env",
   "language": "python",
   "name": "python3"
  },
  "language_info": {
   "codemirror_mode": {
    "name": "ipython",
    "version": 3
   },
   "file_extension": ".py",
   "mimetype": "text/x-python",
   "name": "python",
   "nbconvert_exporter": "python",
   "pygments_lexer": "ipython3",
   "version": "3.13.1"
  }
 },
 "nbformat": 4,
 "nbformat_minor": 2
}
